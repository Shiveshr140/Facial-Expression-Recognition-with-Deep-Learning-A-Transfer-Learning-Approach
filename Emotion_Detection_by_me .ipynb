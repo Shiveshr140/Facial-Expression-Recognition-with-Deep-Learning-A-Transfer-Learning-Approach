{
 "cells": [
  {
   "cell_type": "markdown",
   "id": "8dfc6bde",
   "metadata": {},
   "source": [
    "> In this project we will make model that classify the face emotion such as:\\\n",
    "0. Angry, 1.Disgusting, 2.Fear, 3.Happy, 4.Neutral, 5.Sad, 6.Surprised"
   ]
  },
  {
   "cell_type": "code",
   "execution_count": 1,
   "id": "5a5298b7-6e4b-46d6-90eb-998199c3aaa3",
   "metadata": {},
   "outputs": [],
   "source": [
    "import tensorflow as tf\n",
    "import cv2 as cv\n",
    "import matplotlib.pyplot as plt\n",
    "import numpy as np\n",
    "import os\n",
    "import gc"
   ]
  },
  {
   "cell_type": "markdown",
   "id": "54a73f72",
   "metadata": {},
   "source": [
    "Os module, which is used for interacting with the operating system. This module provides various functions for working with files, directories, paths, and other system-related tasks."
   ]
  },
  {
   "cell_type": "code",
   "execution_count": 2,
   "id": "5e7a5d31-5b5e-44d6-a5d6-8ba7f7e3a953",
   "metadata": {
    "scrolled": true
   },
   "outputs": [
    {
     "data": {
      "text/plain": [
       "['0', '1', '2', '3', '4', '5', '6']"
      ]
     },
     "execution_count": 2,
     "metadata": {},
     "output_type": "execute_result"
    }
   ],
   "source": [
    "classes = []\n",
    "for i in os.listdir('C:\\\\Users\\\\HP\\\\Downloads\\\\train'):\n",
    "    classes.append(i)\n",
    "classes"
   ]
  },
  {
   "cell_type": "markdown",
   "id": "4f7c99d4",
   "metadata": {},
   "source": [
    "Read all images and convert them to array"
   ]
  },
  {
   "cell_type": "code",
   "execution_count": 3,
   "id": "aab5c4b4-6be9-48a9-97d4-7d6756ed8ead",
   "metadata": {},
   "outputs": [],
   "source": [
    "features = []\n",
    "labels = []\n",
    "train_data = []\n",
    "def create_train():\n",
    "    for photo in classes:\n",
    "        path = os.path.join('C:\\\\Users\\\\HP\\\\Downloads\\\\train',photo)\n",
    "        labels = classes.index(photo)\n",
    "        ## loop over to get every img\n",
    "        for img in os.listdir(path):\n",
    "            img_path = os.path.join(path,img)\n",
    "            img_array = cv.imread(img_path)\n",
    "            new_array = cv.resize(img_array,(224,224),interpolation = cv.INTER_AREA)\n",
    "            train_data.append([new_array,labels])\n",
    "         \n",
    "            \n",
    "            if img_array is None:\n",
    "                print(\"Error loading image:\", img_path)\n",
    "                continue\n",
    "#             gray = cv.cvtColor(img_array, cv.COLOR_RGB2GRAY)\n",
    "#             img_array1= cv.cvtColor(img_array,cv.COLOR_BGR2RGB)\n",
    "            # gray = cv.cvtColor(img_array,cv.COLOR_BGR2GRAY)\n",
    "            \n",
    "            \n",
    "\n",
    "            \n",
    "            \n",
    "create_train()\n",
    "\n"
   ]
  },
  {
   "cell_type": "code",
   "execution_count": 4,
   "id": "328bc8d2-5918-4da0-a4ad-c96233c07502",
   "metadata": {},
   "outputs": [],
   "source": [
    "# temp=np.array(train_data)\n",
    "# temp.shape\n"
   ]
  },
  {
   "cell_type": "code",
   "execution_count": 4,
   "id": "192da9bb-50eb-4cdf-bb36-f4616509f600",
   "metadata": {
    "scrolled": true
   },
   "outputs": [],
   "source": [
    "del features\n",
    "del labels\n",
    "gc.collect()\n",
    "\n",
    "import random\n",
    "random.shuffle(train_data)\n",
    "x=[]\n",
    "y=[]\n",
    "for features,label in train_data:\n",
    "    x.append(features)\n",
    "    y.append(label)\n",
    "x=np.array(x)\n",
    "y=np.array(y)"
   ]
  },
  {
   "cell_type": "markdown",
   "id": "5af5836e",
   "metadata": {},
   "source": [
    "Deep learning for training the model - Transfer learning"
   ]
  },
  {
   "cell_type": "code",
   "execution_count": 5,
   "id": "86835a49-0506-43ec-97eb-5897f9711e05",
   "metadata": {},
   "outputs": [],
   "source": [
    "from  tensorflow.keras import layers\n",
    "from tensorflow.keras.layers import Dense"
   ]
  },
  {
   "cell_type": "code",
   "execution_count": 6,
   "id": "1c20b4ff-6e69-4216-a8e2-413f355cf9f8",
   "metadata": {},
   "outputs": [],
   "source": [
    "model = tf.keras.applications.MobileNetV2() ### Pre-trained model"
   ]
  },
  {
   "cell_type": "code",
   "execution_count": 7,
   "id": "6722cddf-a62f-4e3a-8dfb-756a7b39b22b",
   "metadata": {},
   "outputs": [],
   "source": [
    "base_input = model.layers[0].input\n",
    "base_output = model.layers[-2].output ### exclude predictions"
   ]
  },
  {
   "cell_type": "code",
   "execution_count": 8,
   "id": "afdcdab2-dd6e-4276-b6de-e3378033fa0e",
   "metadata": {},
   "outputs": [],
   "source": [
    "final_output = layers.Dense(128)(base_output) ### adding new layer, after global pooling layer\n",
    "final_output = layers.Activation('relu')(final_output)\n",
    "final_output = layers.Dense(64)(final_output)\n",
    "final_output = layers.Activation('relu')(final_output)\n",
    "final_output = layers.Dense(7,activation='softmax')(final_output) ## as we have 7 class"
   ]
  },
  {
   "cell_type": "code",
   "execution_count": 9,
   "id": "82a12dde-1e2e-45c1-83e4-e85f1b076948",
   "metadata": {},
   "outputs": [],
   "source": [
    "from tensorflow import keras\n",
    "new_model = keras.Model(inputs = base_input,outputs=final_output)\n",
    "new_model.compile(optimizer='adam',loss='sparse_categorical_crossentropy',metrics=['accuracy'])"
   ]
  },
  {
   "cell_type": "code",
   "execution_count": 10,
   "id": "208d8c73-6fdd-4039-8935-90a0d555f742",
   "metadata": {},
   "outputs": [
    {
     "name": "stdout",
     "output_type": "stream",
     "text": [
      "Epoch 1/10\n",
      "898/898 [==============================] - 1926s 2s/step - loss: 1.2487 - accuracy: 0.5241\n",
      "Epoch 2/10\n",
      "898/898 [==============================] - 1911s 2s/step - loss: 1.0739 - accuracy: 0.5972\n",
      "Epoch 3/10\n",
      "898/898 [==============================] - 1872s 2s/step - loss: 1.0007 - accuracy: 0.6290\n",
      "Epoch 4/10\n",
      "898/898 [==============================] - 1842s 2s/step - loss: 0.9452 - accuracy: 0.6498\n",
      "Epoch 5/10\n",
      "898/898 [==============================] - 1882s 2s/step - loss: 0.8947 - accuracy: 0.6692\n",
      "Epoch 6/10\n",
      "898/898 [==============================] - 1778s 2s/step - loss: 0.8405 - accuracy: 0.6879\n",
      "Epoch 7/10\n",
      "898/898 [==============================] - 1799s 2s/step - loss: 0.7875 - accuracy: 0.7122\n",
      "Epoch 8/10\n",
      "898/898 [==============================] - 1771s 2s/step - loss: 0.7369 - accuracy: 0.7286\n",
      "Epoch 9/10\n",
      "898/898 [==============================] - 1763s 2s/step - loss: 0.6862 - accuracy: 0.7475\n",
      "Epoch 10/10\n",
      "898/898 [==============================] - 1816s 2s/step - loss: 0.6193 - accuracy: 0.7725\n"
     ]
    },
    {
     "data": {
      "text/plain": [
       "<keras.src.callbacks.History at 0x2961a996750>"
      ]
     },
     "execution_count": 10,
     "metadata": {},
     "output_type": "execute_result"
    }
   ],
   "source": [
    "new_model.fit(x,y,epochs=10)"
   ]
  },
  {
   "cell_type": "code",
   "execution_count": 11,
   "id": "dd94c164-46e3-4f89-a03e-53aa941b13fe",
   "metadata": {},
   "outputs": [
    {
     "name": "stderr",
     "output_type": "stream",
     "text": [
      "C:\\Users\\HP\\anaconda3\\Lib\\site-packages\\keras\\src\\engine\\training.py:3000: UserWarning: You are saving your model as an HDF5 file via `model.save()`. This file format is considered legacy. We recommend using instead the native Keras format, e.g. `model.save('my_model.keras')`.\n",
      "  saving_api.save_model(\n"
     ]
    }
   ],
   "source": [
    "new_model.save('path_to_save_model.h5')"
   ]
  },
  {
   "cell_type": "code",
   "execution_count": null,
   "id": "a6b5b19a",
   "metadata": {},
   "outputs": [],
   "source": [
    "# from tensorflow.keras.models import load_model\n",
    "\n",
    "# # Load the saved model\n",
    "# new_model = load_model('path_to_save_model.h5')\n"
   ]
  },
  {
   "cell_type": "code",
   "execution_count": 60,
   "id": "4b587c1a",
   "metadata": {},
   "outputs": [
    {
     "data": {
      "text/plain": [
       "<matplotlib.image.AxesImage at 0x29518fea8d0>"
      ]
     },
     "execution_count": 60,
     "metadata": {},
     "output_type": "execute_result"
    },
    {
     "data": {
      "image/png": "[encoded data removed]",
      "text/plain": [
       "<Figure size 100x100 with 1 Axes>"
      ]
     },
     "metadata": {},
     "output_type": "display_data"
    }
   ],
   "source": [
    "frame = cv.imread('Surprised.jpg')\n",
    "# cv.imshow('sad',frame)\n",
    "# cv.waitKey(0)\n",
    "plt.figure(figsize=(1,1))\n",
    "plt.imshow(frame)"
   ]
  },
  {
   "cell_type": "code",
   "execution_count": 61,
   "id": "a7aa8033",
   "metadata": {},
   "outputs": [],
   "source": [
    "gray = cv.cvtColor(frame,cv.COLOR_BGR2GRAY)"
   ]
  },
  {
   "cell_type": "code",
   "execution_count": 62,
   "id": "abf06433",
   "metadata": {},
   "outputs": [],
   "source": [
    "haar_Cascade =cv.CascadeClassifier('haarcascade_frontalface_default.xml')\n",
    "faces = haar_Cascade.detectMultiScale(gray,1.007,3)\n",
    "for x,y,w,h in faces:\n",
    "    roi_gray = gray[y:y+h,x:x+w]\n",
    "    roi_color = frame[y:y+h,x:x+w]\n",
    "    cv.rectangle(frame,(x,y),(x+w,y+h),(225,0,0),2)\n",
    "    facess = haar_Cascade.detectMultiScale(roi_gray)\n",
    "    if len(faces)==0:\n",
    "        print('face not detected')\n",
    "    else:\n",
    "        for (ex,ey,ew,eh) in facess:\n",
    "            face_roi = roi_color[ey:ey+eh,ex:ex+ew]"
   ]
  },
  {
   "cell_type": "code",
   "execution_count": 63,
   "id": "1255de01",
   "metadata": {},
   "outputs": [
    {
     "name": "stdout",
     "output_type": "stream",
     "text": [
      "1/1 [==============================] - 0s 40ms/step\n"
     ]
    }
   ],
   "source": [
    "final_image = cv.resize(face_roi,(224,224),interpolation = cv.INTER_AREA)\n",
    "final_image = np.expand_dims(final_image,axis=0)\n",
    "final_image = np.expand_dims(final_image, axis=-1)\n",
    "\n",
    "## Normalize\n",
    "final_image = final_image/255.0\n",
    "pred = new_model.predict(final_image)\n"
   ]
  },
  {
   "cell_type": "code",
   "execution_count": 64,
   "id": "3f0e8211",
   "metadata": {},
   "outputs": [],
   "source": [
    "# haar_Cascade = cv.CascadeClassifier('haarcascade_frontalface_default.xml')\n",
    "# faces = haar_Cascade.detectMultiScale(gray, 1.1, 1)\n",
    "\n",
    "# for x, y, w, h in faces:\n",
    "#     roi_gray = gray[y:y+h, x:x+w]\n",
    "#     roi_color = frame[y:y+h, x:x+w]\n",
    "#     cv.rectangle(frame, (x, y), (x+w, y+h), (225, 0, 0), 2)\n",
    "    \n",
    "#     facess = haar_Cascade.detectMultiScale(roi_gray)\n",
    "    \n",
    "#     if len(facess) == 0:\n",
    "#         print('Face not detected')\n",
    "#     else:\n",
    "#         for (ex, ey, ew, eh) in facess:\n",
    "#             face_roi = roi_color[ey:ey+eh, ex:ex+ew]\n",
    "            \n",
    "#             final_image = cv.resize(face_roi, (224, 224), interpolation=cv.INTER_AREA)\n",
    "#             final_image = np.expand_dims(final_image, axis=0)\n",
    "#             final_image = np.expand_dims(final_image, axis=-1)\n",
    "\n",
    "#             # Normalize\n",
    "#             final_image = final_image / 255.0\n",
    "\n",
    "#             pred = new_model.predict(final_image)\n"
   ]
  },
  {
   "cell_type": "code",
   "execution_count": 65,
   "id": "08713084",
   "metadata": {},
   "outputs": [
    {
     "data": {
      "text/plain": [
       "array([[0.06305757, 0.00838751, 0.08136289, 0.17644145, 0.2749046 ,\n",
       "        0.07381088, 0.32203507]], dtype=float32)"
      ]
     },
     "execution_count": 65,
     "metadata": {},
     "output_type": "execute_result"
    }
   ],
   "source": [
    "pred"
   ]
  },
  {
   "cell_type": "code",
   "execution_count": 66,
   "id": "1a409977",
   "metadata": {},
   "outputs": [
    {
     "data": {
      "text/plain": [
       "6"
      ]
     },
     "execution_count": 66,
     "metadata": {},
     "output_type": "execute_result"
    }
   ],
   "source": [
    "np.argmax(pred)"
   ]
  }
 ],
 "metadata": {
  "kernelspec": {
   "display_name": "Python 3 (ipykernel)",
   "language": "python",
   "name": "python3"
  },
  "language_info": {
   "codemirror_mode": {
    "name": "ipython",
    "version": 3
   },
   "file_extension": ".py",
   "mimetype": "text/x-python",
   "name": "python",
   "nbconvert_exporter": "python",
   "pygments_lexer": "ipython3",
   "version": "3.11.4"
  }
 },
 "nbformat": 4,
 "nbformat_minor": 5
}
